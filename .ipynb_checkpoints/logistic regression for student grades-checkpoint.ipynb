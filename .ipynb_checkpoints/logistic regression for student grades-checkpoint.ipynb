{
 "cells": [
  {
   "cell_type": "markdown",
   "id": "af264afe",
   "metadata": {},
   "source": [
    "# Acceptance Prediction for UC Berkeley\n",
    "## Jeffery Tse"
   ]
  },
  {
   "cell_type": "code",
   "execution_count": 2,
   "id": "d8c8379e",
   "metadata": {},
   "outputs": [],
   "source": [
    "import numpy as np\n",
    "import matplotlib\n",
    "import matplotlib.pyplot as plt\n",
    "import pandas as pd\n",
    "from sklearn import datasets, linear_model\n",
    "from sklearn.preprocessing import StandardScaler\n",
    "from sklearn.model_selection import train_test_split\n",
    "%matplotlib inline"
   ]
  },
  {
   "cell_type": "code",
   "execution_count": 3,
   "id": "bea96dbf",
   "metadata": {},
   "outputs": [],
   "source": [
    "df = pd.read_csv('./uc_club.csv', low_memory=False)"
   ]
  },
  {
   "cell_type": "code",
   "execution_count": 12,
   "id": "6d00c4ba",
   "metadata": {},
   "outputs": [
    {
     "name": "stdout",
     "output_type": "stream",
     "text": [
      "Index(['city.x', 'fall_term', 'school_name', 'ethcat', 'app_val', 'adm_val',\n",
      "       'enr_val', 'app_gpa', 'adm_gpa', 'enr_gpa', 'd'],\n",
      "      dtype='object')\n"
     ]
    }
   ],
   "source": [
    "berkeley = df[df['campus']==\"Berkeley\"]\n",
    "useful_columns = berkeley[[\"city.x\", \"fall_term\", \"school_name\", \"ethcat\",'app_val', 'adm_val', \n",
    "                           'enr_val', 'app_gpa', 'adm_gpa', 'enr_gpa', 'd']]\n",
    "print(useful_columns.columns)"
   ]
  },
  {
   "cell_type": "code",
   "execution_count": null,
   "id": "dffd5f8c",
   "metadata": {},
   "outputs": [],
   "source": []
  }
 ],
 "metadata": {
  "kernelspec": {
   "display_name": "Python 3 (ipykernel)",
   "language": "python",
   "name": "python3"
  },
  "language_info": {
   "codemirror_mode": {
    "name": "ipython",
    "version": 3
   },
   "file_extension": ".py",
   "mimetype": "text/x-python",
   "name": "python",
   "nbconvert_exporter": "python",
   "pygments_lexer": "ipython3",
   "version": "3.9.7"
  }
 },
 "nbformat": 4,
 "nbformat_minor": 5
}
