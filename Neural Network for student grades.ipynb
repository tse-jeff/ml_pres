{
 "cells": [
  {
   "cell_type": "code",
   "execution_count": 23,
   "id": "4fca1c72",
   "metadata": {},
   "outputs": [],
   "source": [
    "# import statements\n",
    "import numpy as np\n",
    "import matplotlib.pyplot as plt\n",
    "import pandas as pd\n",
    "from sklearn.model_selection import train_test_split\n",
    "from sklearn.neural_network import MLPClassifier\n",
    "from sklearn.metrics import classification_report"
   ]
  },
  {
   "cell_type": "code",
   "execution_count": 24,
   "id": "59cb7ab9",
   "metadata": {},
   "outputs": [],
   "source": [
    "# https://www.kaggle.com/dipam7/student-grade-prediction\n",
    "# P. Cortez and A. Silva. Using Data Mining to Predict Secondary School Student Performance. In A. Brito and J. Teixeira Eds., Proceedings of 5th FUture BUsiness TEChnology Conference (FUBUTEC 2008) pp. 5-12, Porto, Portugal, April, 2008, EUROSIS, ISBN 978-9077381-39-7.\n",
    "df = pd.read_csv('./student-mat.csv', low_memory=False)"
   ]
  },
  {
   "cell_type": "code",
   "execution_count": 25,
   "id": "a381fa8a",
   "metadata": {},
   "outputs": [],
   "source": [
    "df.drop(columns=['school','address','Mjob','Fjob','reason'], inplace=True)\n",
    "for i in df.index:\n",
    "    df.loc[i,\"sex\"] = 0 if df.loc[i,\"sex\"] == \"F\" else 1\n",
    "    df.loc[i,\"famsize\"] = 0 if df.loc[i,\"famsize\"] == 'LT3' else 1\n",
    "    df.loc[i,'Pstatus'] = 0 if df.loc[i,'Pstatus'] == 'A' else 1\n",
    "    df.loc[i,'guardian'] = 0 if df.loc[i,'guardian'] == 'mother' else 1 if df.loc[i,'guardian'] == 'father' else 2\n",
    "    df.loc[i,\"schoolsup\"] = 0 if df.loc[i,\"schoolsup\"] == 'no' else 1\n",
    "    df.loc[i,\"famsup\"] = 0 if df.loc[i,\"famsup\"] == 'no' else 1\n",
    "    df.loc[i,\"paid\"] = 0 if df.loc[i,\"paid\"] == 'no' else 1\n",
    "    df.loc[i,\"activities\"] = 0 if df.loc[i,\"activities\"] == 'no' else 1\n",
    "    df.loc[i,\"nursery\"] = 0 if df.loc[i,\"nursery\"] == 'no' else 1\n",
    "    df.loc[i,\"higher\"] = 0 if df.loc[i,\"higher\"] == 'no' else 1\n",
    "    df.loc[i,\"internet\"] = 0 if df.loc[i,\"internet\"] == 'no' else 1\n",
    "    df.loc[i,\"romantic\"] = 0 if df.loc[i,\"romantic\"] == 'no' else 1\n",
    "# df = pd.get_dummies(df)\n",
    "\n",
    "out = np.where(df['G3'] > 13, 1, 0) # greater than 65% is passing\n",
    "inp = df.drop(['G3'], axis=1)\n",
    "\n",
    "# print(df.columns)\n",
    "# print(out)"
   ]
  },
  {
   "cell_type": "code",
   "execution_count": 26,
   "id": "49d323d9",
   "metadata": {},
   "outputs": [],
   "source": [
    "def test(X_train, X_test, y_train, y_test, layers):\n",
    "    mlp = MLPClassifier(hidden_layer_sizes=layers, solver=\"lbfgs\", max_iter=1000)\n",
    "    mlp.fit(X_train, y_train)\n",
    "    y_pred = mlp.predict(X_test)\n",
    "    \n",
    "    print(f\"layers={layers}\")\n",
    "    print(classification_report(y_test, y_pred))\n",
    "    print(f\"\\tTraining Accuracy = {mlp.score(X_train, y_train)}\")\n",
    "    print(f\"\\tTesting Accuracy = {mlp.score(X_test, y_test)}\")"
   ]
  },
  {
   "cell_type": "code",
   "execution_count": 27,
   "id": "b8e8634b",
   "metadata": {},
   "outputs": [
    {
     "name": "stdout",
     "output_type": "stream",
     "text": [
      "layers=2\n",
      "              precision    recall  f1-score   support\n",
      "\n",
      "           0       0.97      0.90      0.93        63\n",
      "           1       0.70      0.88      0.78        16\n",
      "\n",
      "    accuracy                           0.90        79\n",
      "   macro avg       0.83      0.89      0.86        79\n",
      "weighted avg       0.91      0.90      0.90        79\n",
      "\n",
      "\tTraining Accuracy = 0.9778481012658228\n",
      "\tTesting Accuracy = 0.8987341772151899\n",
      "layers=8\n",
      "              precision    recall  f1-score   support\n",
      "\n",
      "           0       0.94      0.94      0.94        63\n",
      "           1       0.75      0.75      0.75        16\n",
      "\n",
      "    accuracy                           0.90        79\n",
      "   macro avg       0.84      0.84      0.84        79\n",
      "weighted avg       0.90      0.90      0.90        79\n",
      "\n",
      "\tTraining Accuracy = 1.0\n",
      "\tTesting Accuracy = 0.8987341772151899\n",
      "layers=(8, 8)\n",
      "              precision    recall  f1-score   support\n",
      "\n",
      "           0       0.97      0.92      0.94        63\n",
      "           1       0.74      0.88      0.80        16\n",
      "\n",
      "    accuracy                           0.91        79\n",
      "   macro avg       0.85      0.90      0.87        79\n",
      "weighted avg       0.92      0.91      0.91        79\n",
      "\n",
      "\tTraining Accuracy = 0.9556962025316456\n",
      "\tTesting Accuracy = 0.9113924050632911\n",
      "layers=(64, 64)\n",
      "              precision    recall  f1-score   support\n",
      "\n",
      "           0       0.95      0.90      0.93        63\n",
      "           1       0.68      0.81      0.74        16\n",
      "\n",
      "    accuracy                           0.89        79\n",
      "   macro avg       0.82      0.86      0.83        79\n",
      "weighted avg       0.90      0.89      0.89        79\n",
      "\n",
      "\tTraining Accuracy = 1.0\n",
      "\tTesting Accuracy = 0.8860759493670886\n",
      "layers=(8, 8, 8)\n",
      "              precision    recall  f1-score   support\n",
      "\n",
      "           0       0.97      0.95      0.96        63\n",
      "           1       0.82      0.88      0.85        16\n",
      "\n",
      "    accuracy                           0.94        79\n",
      "   macro avg       0.90      0.91      0.90        79\n",
      "weighted avg       0.94      0.94      0.94        79\n",
      "\n",
      "\tTraining Accuracy = 1.0\n",
      "\tTesting Accuracy = 0.9367088607594937\n",
      "layers=(64, 64, 8)\n",
      "              precision    recall  f1-score   support\n",
      "\n",
      "           0       0.80      1.00      0.89        63\n",
      "           1       0.00      0.00      0.00        16\n",
      "\n",
      "    accuracy                           0.80        79\n",
      "   macro avg       0.40      0.50      0.44        79\n",
      "weighted avg       0.64      0.80      0.71        79\n",
      "\n",
      "\tTraining Accuracy = 0.7341772151898734\n",
      "\tTesting Accuracy = 0.7974683544303798\n"
     ]
    },
    {
     "name": "stderr",
     "output_type": "stream",
     "text": [
      "C:\\Users\\jtse0\\anaconda3\\lib\\site-packages\\sklearn\\metrics\\_classification.py:1248: UndefinedMetricWarning: Precision and F-score are ill-defined and being set to 0.0 in labels with no predicted samples. Use `zero_division` parameter to control this behavior.\n",
      "  _warn_prf(average, modifier, msg_start, len(result))\n",
      "C:\\Users\\jtse0\\anaconda3\\lib\\site-packages\\sklearn\\metrics\\_classification.py:1248: UndefinedMetricWarning: Precision and F-score are ill-defined and being set to 0.0 in labels with no predicted samples. Use `zero_division` parameter to control this behavior.\n",
      "  _warn_prf(average, modifier, msg_start, len(result))\n",
      "C:\\Users\\jtse0\\anaconda3\\lib\\site-packages\\sklearn\\metrics\\_classification.py:1248: UndefinedMetricWarning: Precision and F-score are ill-defined and being set to 0.0 in labels with no predicted samples. Use `zero_division` parameter to control this behavior.\n",
      "  _warn_prf(average, modifier, msg_start, len(result))\n"
     ]
    }
   ],
   "source": [
    "X_train, X_test, y_train, y_test = train_test_split(inp, out, test_size=.2)\n",
    "# mlp = MLPClassifier(hidden_layer_sizes=(8,8,8), solver='lbfgs', max_iter=1000)\n",
    "# mlp.fit(X_train, y_train)\n",
    "\n",
    "# print(f\"\\tTraining Accuracy = {mlp.score(X_train, y_train)}\")\n",
    "# print(f\"\\tTesting Accuracy = {mlp.score(X_test, y_test)}\")\n",
    "test(X_train, X_test, y_train, y_test, (2))\n",
    "test(X_train, X_test, y_train, y_test, (8))\n",
    "test(X_train, X_test, y_train, y_test, (8,8))\n",
    "test(X_train, X_test, y_train, y_test, (64,64))\n",
    "test(X_train, X_test, y_train, y_test, (8,8,8))\n",
    "test(X_train, X_test, y_train, y_test, (64,64,8))"
   ]
  }
 ],
 "metadata": {
  "kernelspec": {
   "display_name": "Python 3 (ipykernel)",
   "language": "python",
   "name": "python3"
  },
  "language_info": {
   "codemirror_mode": {
    "name": "ipython",
    "version": 3
   },
   "file_extension": ".py",
   "mimetype": "text/x-python",
   "name": "python",
   "nbconvert_exporter": "python",
   "pygments_lexer": "ipython3",
   "version": "3.9.7"
  }
 },
 "nbformat": 4,
 "nbformat_minor": 5
}
