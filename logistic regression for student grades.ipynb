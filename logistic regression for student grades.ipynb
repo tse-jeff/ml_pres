{
 "cells": [
  {
   "cell_type": "markdown",
   "id": "af264afe",
   "metadata": {},
   "source": [
    "# Student Grade Prediction using Logistic Regression\n",
    "## Jeffery Tse"
   ]
  },
  {
   "cell_type": "code",
   "execution_count": 27,
   "id": "d8c8379e",
   "metadata": {},
   "outputs": [],
   "source": [
    "# import statements\n",
    "import numpy as np\n",
    "import matplotlib.pyplot as plt\n",
    "import pandas as pd\n",
    "from sklearn.linear_model import LogisticRegression\n",
    "from sklearn.model_selection import train_test_split\n",
    "from sklearn.metrics import classification_report\n",
    "%matplotlib inline"
   ]
  },
  {
   "cell_type": "code",
   "execution_count": 28,
   "id": "bea96dbf",
   "metadata": {},
   "outputs": [],
   "source": [
    "# https://www.kaggle.com/dipam7/student-grade-prediction\n",
    "# P. Cortez and A. Silva. Using Data Mining to Predict Secondary School Student Performance. In A. Brito and J. Teixeira Eds., Proceedings of 5th FUture BUsiness TEChnology Conference (FUBUTEC 2008) pp. 5-12, Porto, Portugal, April, 2008, EUROSIS, ISBN 978-9077381-39-7.\n",
    "df = pd.read_csv('./student-mat.csv', low_memory=False)"
   ]
  },
  {
   "cell_type": "code",
   "execution_count": 29,
   "id": "6d00c4ba",
   "metadata": {},
   "outputs": [],
   "source": [
    "\n",
    "df.drop(columns=['school','address','Mjob','Fjob','reason'], inplace=True)\n",
    "for i in df.index:\n",
    "    df.loc[i,\"sex\"] = 0 if df.loc[i,\"sex\"] == \"F\" else 1\n",
    "    df.loc[i,\"famsize\"] = 0 if df.loc[i,\"famsize\"] == 'LT3' else 1\n",
    "    df.loc[i,'Pstatus'] = 0 if df.loc[i,'Pstatus'] == 'A' else 1\n",
    "    df.loc[i,'guardian'] = 0 if df.loc[i,'guardian'] == 'mother' else 1 if df.loc[i,'guardian'] == 'father' else 2\n",
    "    df.loc[i,\"schoolsup\"] = 0 if df.loc[i,\"schoolsup\"] == 'no' else 1\n",
    "    df.loc[i,\"famsup\"] = 0 if df.loc[i,\"famsup\"] == 'no' else 1\n",
    "    df.loc[i,\"paid\"] = 0 if df.loc[i,\"paid\"] == 'no' else 1\n",
    "    df.loc[i,\"activities\"] = 0 if df.loc[i,\"activities\"] == 'no' else 1\n",
    "    df.loc[i,\"nursery\"] = 0 if df.loc[i,\"nursery\"] == 'no' else 1\n",
    "    df.loc[i,\"higher\"] = 0 if df.loc[i,\"higher\"] == 'no' else 1\n",
    "    df.loc[i,\"internet\"] = 0 if df.loc[i,\"internet\"] == 'no' else 1\n",
    "    df.loc[i,\"romantic\"] = 0 if df.loc[i,\"romantic\"] == 'no' else 1\n",
    "# df = pd.get_dummies(df)\n",
    "\n",
    "out = np.where(df['G3'] > 13, 1, 0) # greater than 65% is passing\n",
    "inp = df.drop(['G3'], axis=1)\n",
    "\n",
    "# print(df.columns)\n",
    "# print(out)"
   ]
  },
  {
   "cell_type": "code",
   "execution_count": 30,
   "id": "396def40",
   "metadata": {},
   "outputs": [],
   "source": [
    "def test(X_train, X_test, y_train, y_test, solver, penalty):\n",
    "    log_reg = LogisticRegression(max_iter=1000, solver=solver, penalty=penalty)\n",
    "    log_reg.fit(X_train, y_train)\n",
    "    y_pred = log_reg.predict(X_test)\n",
    "    \n",
    "    print(classification_report(y_test, y_pred))\n",
    "    print(f\"\\tTraining Accuracy = {log_reg.score(X_train, y_train)}\")\n",
    "    print(f\"\\tTesting Accuracy = {log_reg.score(X_test, y_test)}\")"
   ]
  },
  {
   "cell_type": "code",
   "execution_count": 31,
   "id": "0c9d5783",
   "metadata": {},
   "outputs": [
    {
     "name": "stdout",
     "output_type": "stream",
     "text": [
      "No regularization\n",
      "              precision    recall  f1-score   support\n",
      "\n",
      "           0       0.96      0.93      0.95        57\n",
      "           1       0.83      0.91      0.87        22\n",
      "\n",
      "    accuracy                           0.92        79\n",
      "   macro avg       0.90      0.92      0.91        79\n",
      "weighted avg       0.93      0.92      0.93        79\n",
      "\n",
      "\tTraining Accuracy = 1.0\n",
      "\tTesting Accuracy = 0.9240506329113924\n",
      "L1 regularization\n",
      "              precision    recall  f1-score   support\n",
      "\n",
      "           0       0.96      0.95      0.96        57\n",
      "           1       0.87      0.91      0.89        22\n",
      "\n",
      "    accuracy                           0.94        79\n",
      "   macro avg       0.92      0.93      0.92        79\n",
      "weighted avg       0.94      0.94      0.94        79\n",
      "\n",
      "\tTraining Accuracy = 0.9620253164556962\n",
      "\tTesting Accuracy = 0.9367088607594937\n",
      "L2 regularization\n",
      "              precision    recall  f1-score   support\n",
      "\n",
      "           0       0.98      0.96      0.97        57\n",
      "           1       0.91      0.95      0.93        22\n",
      "\n",
      "    accuracy                           0.96        79\n",
      "   macro avg       0.95      0.96      0.95        79\n",
      "weighted avg       0.96      0.96      0.96        79\n",
      "\n",
      "\tTraining Accuracy = 0.9810126582278481\n",
      "\tTesting Accuracy = 0.9620253164556962\n"
     ]
    }
   ],
   "source": [
    "X_train, X_test, y_train, y_test = train_test_split(inp, out, test_size=.2)\n",
    "\n",
    "print(\"No regularization\")\n",
    "test(X_train, X_test, y_train, y_test, \"lbfgs\", \"none\")\n",
    "print(\"L1 regularization\")\n",
    "test(X_train, X_test, y_train, y_test, \"liblinear\", \"l1\")\n",
    "print(\"L2 regularization\")\n",
    "test(X_train, X_test, y_train, y_test, \"lbfgs\", \"l2\")"
   ]
  }
 ],
 "metadata": {
  "kernelspec": {
   "display_name": "Python 3 (ipykernel)",
   "language": "python",
   "name": "python3"
  },
  "language_info": {
   "codemirror_mode": {
    "name": "ipython",
    "version": 3
   },
   "file_extension": ".py",
   "mimetype": "text/x-python",
   "name": "python",
   "nbconvert_exporter": "python",
   "pygments_lexer": "ipython3",
   "version": "3.9.7"
  }
 },
 "nbformat": 4,
 "nbformat_minor": 5
}
